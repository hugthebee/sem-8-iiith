{
  "cells": [
    {
      "cell_type": "markdown",
      "metadata": {
        "id": "zrXwIh8F4VsZ"
      },
      "source": [
        "# Pytorch Tutorial (SMAI Spring'25)"
      ]
    },
    {
      "cell_type": "markdown",
      "metadata": {
        "id": "nmIAUT-J4ieX"
      },
      "source": [
        "## Tensors\n",
        "- Tensors are the fundamental data structures used for numerical computations\n",
        "- Similar to NumPy arrays, additional capabilities like GPU acceleration and automatic differentiation.\n",
        "\n",
        "🔹 Key Features of Tensors\n",
        "- Multi-Dimensional Arrays – Similar to NumPy arrays but optimized for deep learning.\n",
        "- GPU Acceleration – Can be moved between CPU and GPU (.cuda(), .to(device)).\n",
        "- Autograd Support – Tracks gradients for automatic differentiation (requires_grad=True).\n",
        "- Efficient Computations – Uses optimized low-level operations via torch.nn and torch.optim.\n",
        "- Type Flexibility – Supports various data types (torch.float32, torch.int64, etc.)."
      ]
    },
    {
      "cell_type": "code",
      "execution_count": null,
      "metadata": {
        "id": "YsbK6kDx4JKC"
      },
      "outputs": [],
      "source": [
        "import torch\n",
        "import numpy as np"
      ]
    },
    {
      "cell_type": "code",
      "execution_count": null,
      "metadata": {
        "colab": {
          "base_uri": "https://localhost:8080/"
        },
        "id": "Holqqtrf4lDy",
        "outputId": "e8ce215b-909c-4eb2-c926-9fb0328c34cf"
      },
      "outputs": [
        {
          "name": "stdout",
          "output_type": "stream",
          "text": [
            "torch.Size([3])\n",
            "torch.Size([2, 1])\n"
          ]
        }
      ],
      "source": [
        "tensor_1 = torch.tensor([1, 2, 3])\n",
        "tensor_2 = torch.tensor([[1.0], [3.0]])\n",
        "\n",
        "print(tensor_1.shape)\n",
        "print(tensor_2.shape)"
      ]
    },
    {
      "cell_type": "code",
      "execution_count": null,
      "metadata": {
        "colab": {
          "base_uri": "https://localhost:8080/"
        },
        "id": "lkCujoga4oNb",
        "outputId": "2ff968ea-ffa7-4de1-a5db-a09785b64cd6"
      },
      "outputs": [
        {
          "data": {
            "text/plain": [
              "(2, 1)"
            ]
          },
          "execution_count": 30,
          "metadata": {},
          "output_type": "execute_result"
        }
      ],
      "source": [
        "tensor_2.shape[0],tensor_2.shape[1]"
      ]
    },
    {
      "cell_type": "markdown",
      "metadata": {
        "id": "bPyDJop45tAo"
      },
      "source": [
        "## Convert NumPy to PyTorch Tensor and Vice Versa"
      ]
    },
    {
      "cell_type": "code",
      "execution_count": null,
      "metadata": {
        "colab": {
          "base_uri": "https://localhost:8080/"
        },
        "id": "QdPgzHXd4wbD",
        "outputId": "a8de6d3c-78a0-4f32-c33c-8e196a12ae52"
      },
      "outputs": [
        {
          "name": "stdout",
          "output_type": "stream",
          "text": [
            "Torch Tensor: tensor([[1, 2, 3],\n",
            "        [4, 5, 6]])\n",
            "Numpy Array:  [[1 2 3]\n",
            " [4 5 6]]\n"
          ]
        }
      ],
      "source": [
        "np_array = np.array([[1, 2, 3], [4, 5, 6]])\n",
        "torch_tensor = torch.tensor(np_array)  # OR torch.from_numpy(np_array)\n",
        "print(\"Torch Tensor:\",torch_tensor)\n",
        "\n",
        "# PyTorch Tensor to NumPy\n",
        "back_to_numpy = torch_tensor.numpy()\n",
        "print(\"Numpy Array: \",back_to_numpy)"
      ]
    },
    {
      "cell_type": "markdown",
      "metadata": {
        "id": "9hx8DBDn51bK"
      },
      "source": [
        "## Setting Device (CPU/GPU)"
      ]
    },
    {
      "cell_type": "code",
      "execution_count": null,
      "metadata": {
        "colab": {
          "base_uri": "https://localhost:8080/"
        },
        "id": "ImoACqQp5vQl",
        "outputId": "184381f7-f786-4452-a170-483d311142b6"
      },
      "outputs": [
        {
          "name": "stdout",
          "output_type": "stream",
          "text": [
            "Using device: cuda\n"
          ]
        }
      ],
      "source": [
        "# Check if GPU is available\n",
        "device = \"cuda\" if torch.cuda.is_available() else \"cpu\"\n",
        "print(f\"Using device: {device}\")\n",
        "\n",
        "# Move tensor to GPU\n",
        "gpu_tensor = torch.tensor([1, 2, 3]).to(device)"
      ]
    },
    {
      "cell_type": "markdown",
      "metadata": {
        "id": "Fntj_Iio6CKP"
      },
      "source": [
        "## Making Tensors Learnable (Parameters in a Model)"
      ]
    },
    {
      "cell_type": "code",
      "execution_count": null,
      "metadata": {
        "colab": {
          "base_uri": "https://localhost:8080/"
        },
        "id": "SenjRhhp6DRE",
        "outputId": "23162596-4af1-40b3-8e3f-1750b4055881"
      },
      "outputs": [
        {
          "name": "stdout",
          "output_type": "stream",
          "text": [
            "Parameter containing:\n",
            "tensor([-2.0084], requires_grad=True)\n"
          ]
        }
      ],
      "source": [
        "from torch import nn\n",
        "\n",
        "# Define a simple linear model with learnable weights\n",
        "class SimpleModel(nn.Module):\n",
        "    def __init__(self):\n",
        "        super(SimpleModel, self).__init__()\n",
        "        self.weight = nn.Parameter(torch.randn(1))  # Learnable parameter\n",
        "\n",
        "    def forward(self, x):\n",
        "        return x * self.weight  # Simple multiplication\n",
        "\n",
        "model = SimpleModel()\n",
        "print(model.weight)  # Initial random weight"
      ]
    },
    {
      "cell_type": "markdown",
      "metadata": {
        "id": "iG16F4dp6KMT"
      },
      "source": [
        "## Using CUDA for Model Training"
      ]
    },
    {
      "cell_type": "code",
      "execution_count": null,
      "metadata": {
        "colab": {
          "base_uri": "https://localhost:8080/"
        },
        "id": "5ZLoZEiU6J76",
        "outputId": "c4b2d53d-f258-4083-f58f-6caf5df938e9"
      },
      "outputs": [
        {
          "name": "stdout",
          "output_type": "stream",
          "text": [
            "tensor([1.3746], device='cuda:0', grad_fn=<MulBackward0>)\n"
          ]
        }
      ],
      "source": [
        "model = SimpleModel().to(device)\n",
        "\n",
        "# Create input tensor and move to device\n",
        "input_tensor = torch.tensor([5.0]).to(device)\n",
        "\n",
        "# Perform forward pass\n",
        "output = model(input_tensor)\n",
        "print(output)"
      ]
    },
    {
      "cell_type": "markdown",
      "metadata": {
        "id": "zGh4tB7k6vz0"
      },
      "source": [
        "## Evaluating the Model"
      ]
    },
    {
      "cell_type": "code",
      "execution_count": null,
      "metadata": {
        "colab": {
          "base_uri": "https://localhost:8080/"
        },
        "id": "pSbzKAUe6wgn",
        "outputId": "fc4e660a-dcdc-48d5-d3a0-dba2b385f53a"
      },
      "outputs": [
        {
          "name": "stdout",
          "output_type": "stream",
          "text": [
            "Prediction for input 4: 1.0996793508529663\n"
          ]
        }
      ],
      "source": [
        "model.eval()  # Set model to evaluation mode\n",
        "with torch.no_grad():  # Disable gradient computation\n",
        "    test_input = torch.tensor([[4.0]]).to(device)  # Example input\n",
        "    prediction = model(test_input)\n",
        "    print(f\"Prediction for input 4: {prediction.item()}\")\n",
        "    \n",
        "    #stuff that is there in the training model - like droputs - are not considered\n",
        "    #torch.nograd() - use it when evaluating cause we do not want to change weights (wont calculate the gradient at all)\n",
        "    #without nograd() the fradients keep accumulating and gpu exceeds memory"
      ]
    },
    {
      "cell_type": "markdown",
      "metadata": {
        "id": "ppRv_aYa68rj"
      },
      "source": [
        "## Stacking Tensors"
      ]
    },
    {
      "cell_type": "code",
      "execution_count": null,
      "metadata": {
        "colab": {
          "base_uri": "https://localhost:8080/"
        },
        "id": "ic7i4_Rg6-2n",
        "outputId": "042ac11d-6b29-40fc-9e77-016c85f8d578"
      },
      "outputs": [
        {
          "name": "stdout",
          "output_type": "stream",
          "text": [
            "Stacked along dim=0:\n",
            " tensor([[1, 2, 3],\n",
            "        [4, 5, 6]])\n",
            "Stacked along dim=1:\n",
            " tensor([[1, 4],\n",
            "        [2, 5],\n",
            "        [3, 6]])\n"
          ]
        }
      ],
      "source": [
        "# Create two tensors\n",
        "a = torch.tensor([1, 2, 3])\n",
        "b = torch.tensor([4, 5, 6])\n",
        "\n",
        "# Stack along a new dimension (dim=0)\n",
        "stacked_0 = torch.stack([a, b], dim=0)\n",
        "print(\"Stacked along dim=0:\\n\", stacked_0)\n",
        "\n",
        "# Stack along dim=1\n",
        "stacked_1 = torch.stack([a, b], dim=1)\n",
        "print(\"Stacked along dim=1:\\n\", stacked_1)"
      ]
    },
    {
      "cell_type": "markdown",
      "metadata": {
        "id": "8pjDoVbR7HyO"
      },
      "source": [
        "## Stacking along the first dimension (row-wise)"
      ]
    },
    {
      "cell_type": "code",
      "execution_count": null,
      "metadata": {
        "colab": {
          "base_uri": "https://localhost:8080/"
        },
        "id": "zuE-pYmc7C5q",
        "outputId": "8467c72e-3e7c-4fb1-b907-21ed0ab13a49"
      },
      "outputs": [
        {
          "name": "stdout",
          "output_type": "stream",
          "text": [
            "VStack:\n",
            " tensor([[1, 2, 3],\n",
            "        [4, 5, 6]])\n"
          ]
        }
      ],
      "source": [
        "a = torch.tensor([[1, 2, 3]])\n",
        "b = torch.tensor([[4, 5, 6]])\n",
        "\n",
        "vstacked = torch.vstack([a, b])\n",
        "print(\"VStack:\\n\", vstacked)"
      ]
    },
    {
      "cell_type": "markdown",
      "metadata": {
        "id": "8s9va4WS7M1n"
      },
      "source": [
        "## Stacking along the second dimension (column-wise)"
      ]
    },
    {
      "cell_type": "code",
      "execution_count": null,
      "metadata": {
        "colab": {
          "base_uri": "https://localhost:8080/"
        },
        "id": "ygpeWC867KbZ",
        "outputId": "2e2a0b84-acbc-4255-8219-51b9a7adcc5d"
      },
      "outputs": [
        {
          "name": "stdout",
          "output_type": "stream",
          "text": [
            "HStack:\n",
            " tensor([[1, 2, 3, 4, 5, 6]])\n"
          ]
        }
      ],
      "source": [
        "hstacked = torch.hstack([a, b])\n",
        "print(\"HStack:\\n\", hstacked)"
      ]
    },
    {
      "cell_type": "markdown",
      "metadata": {
        "id": "1_5UZIPD7Q63"
      },
      "source": [
        "## Concatenating Tensors"
      ]
    },
    {
      "cell_type": "code",
      "execution_count": null,
      "metadata": {
        "colab": {
          "base_uri": "https://localhost:8080/"
        },
        "id": "mPYh8shl7OdA",
        "outputId": "1aa1d477-e5dd-4cc9-addb-b9db2843bddf"
      },
      "outputs": [
        {
          "name": "stdout",
          "output_type": "stream",
          "text": [
            "Concatenated along dim=0:\n",
            " tensor([[1, 2],\n",
            "        [3, 4],\n",
            "        [5, 6],\n",
            "        [7, 8]])\n",
            "Concatenated along dim=1:\n",
            " tensor([[1, 2, 5, 6],\n",
            "        [3, 4, 7, 8]])\n"
          ]
        }
      ],
      "source": [
        "# Create tensors\n",
        "a = torch.tensor([[1, 2], [3, 4]])\n",
        "b = torch.tensor([[5, 6], [7, 8]])\n",
        "\n",
        "# Concatenate along rows (dim=0)\n",
        "concat_0 = torch.cat((a, b), dim=0)\n",
        "print(\"Concatenated along dim=0:\\n\", concat_0)\n",
        "\n",
        "# Concatenate along columns (dim=1)\n",
        "concat_1 = torch.cat((a, b), dim=1)\n",
        "print(\"Concatenated along dim=1:\\n\", concat_1)"
      ]
    },
    {
      "cell_type": "markdown",
      "metadata": {
        "id": "jN5e4h4u7VQN"
      },
      "source": [
        "## Rearranging Dimensions"
      ]
    },
    {
      "cell_type": "code",
      "execution_count": null,
      "metadata": {
        "colab": {
          "base_uri": "https://localhost:8080/"
        },
        "id": "6JvDxKDn7S0U",
        "outputId": "7f3f40f3-8305-45e7-d802-fdf895f775c1"
      },
      "outputs": [
        {
          "name": "stdout",
          "output_type": "stream",
          "text": [
            "Original shape: torch.Size([2, 3, 4])\n",
            "Permuted shape: torch.Size([2, 4, 3])\n"
          ]
        }
      ],
      "source": [
        "x = torch.rand(2, 3, 4)  # Shape (batch_size, channels, height)\n",
        "\n",
        "# Change from (2, 3, 4) to (2, 4, 3)\n",
        "permuted_x = x.permute(0, 2, 1)\n",
        "print(\"Original shape:\", x.shape)\n",
        "print(\"Permuted shape:\", permuted_x.shape)"
      ]
    },
    {
      "cell_type": "markdown",
      "metadata": {
        "id": "dkyRMAjw7axE"
      },
      "source": [
        "## Swapping two dimensions"
      ]
    },
    {
      "cell_type": "code",
      "execution_count": null,
      "metadata": {
        "colab": {
          "base_uri": "https://localhost:8080/"
        },
        "id": "ee33xjIw7ae0",
        "outputId": "c666a930-32d3-4dd4-8151-84415355fa87"
      },
      "outputs": [
        {
          "name": "stdout",
          "output_type": "stream",
          "text": [
            "Original Tensor:\n",
            " tensor([[1, 2, 3],\n",
            "        [4, 5, 6]])\n",
            "Transposed Tensor:\n",
            " tensor([[1, 4],\n",
            "        [2, 5],\n",
            "        [3, 6]])\n"
          ]
        }
      ],
      "source": [
        "x = torch.tensor([[1, 2, 3], [4, 5, 6]])\n",
        "\n",
        "# Swap dimensions (0, 1)\n",
        "transposed_x = torch.transpose(x, 0, 1)\n",
        "print(\"Original Tensor:\\n\", x)\n",
        "print(\"Transposed Tensor:\\n\", transposed_x)"
      ]
    },
    {
      "cell_type": "markdown",
      "metadata": {
        "id": "XbOdr80y7eyG"
      },
      "source": [
        "## Change tensor shape"
      ]
    },
    {
      "cell_type": "code",
      "execution_count": null,
      "metadata": {
        "colab": {
          "base_uri": "https://localhost:8080/"
        },
        "id": "ddl_ObXc7XTp",
        "outputId": "6ff5b712-198c-47cb-b904-5bcc6d04f084"
      },
      "outputs": [
        {
          "name": "stdout",
          "output_type": "stream",
          "text": [
            "Original tensor: tensor([0, 1, 2, 3, 4, 5])\n",
            "Reshaped tensor:\n",
            " tensor([[0, 1, 2],\n",
            "        [3, 4, 5]])\n",
            "Reshaped tensor using reshape:\n",
            " tensor([[0, 1],\n",
            "        [2, 3],\n",
            "        [4, 5]])\n"
          ]
        }
      ],
      "source": [
        "x = torch.arange(6)  # Tensor with shape (6,)\n",
        "print(\"Original tensor:\", x)\n",
        "\n",
        "# Reshape into (2,3)\n",
        "reshaped_x = x.view(2, 3)\n",
        "print(\"Reshaped tensor:\\n\", reshaped_x)\n",
        "\n",
        "# Alternative: torch.reshape\n",
        "reshaped_x2 = x.reshape(3, 2)\n",
        "print(\"Reshaped tensor using reshape:\\n\", reshaped_x2)"
      ]
    },
    {
      "cell_type": "markdown",
      "metadata": {
        "id": "TS8nrkb6Bbur"
      },
      "source": [
        "## Broadcasting"
      ]
    },
    {
      "cell_type": "code",
      "execution_count": null,
      "metadata": {
        "colab": {
          "base_uri": "https://localhost:8080/"
        },
        "id": "Ue-DYtfhBbur",
        "outputId": "1253807d-5acc-4950-bb47-bb918cedd707"
      },
      "outputs": [
        {
          "name": "stdout",
          "output_type": "stream",
          "text": [
            "tensor([[2, 3, 4],\n",
            "        [4, 5, 6]])\n"
          ]
        },
        {
          "data": {
            "text/plain": [
              "tensor([[3, 5, 5],\n",
              "        [5, 7, 7]])"
            ]
          },
          "execution_count": 43,
          "metadata": {},
          "output_type": "execute_result"
        }
      ],
      "source": [
        "t = torch.tensor([[2,3,4],[4,5,6]])\n",
        "print(t)\n",
        "t + torch.tensor([1,2,1]) # t + [[1,2,1], [1,2,1]] done internally"
      ]
    },
    {
      "cell_type": "markdown",
      "metadata": {
        "id": "WINhoU0QBbur"
      },
      "source": [
        "## Building a Neural Network Model in PyTorch"
      ]
    },
    {
      "cell_type": "code",
      "execution_count": null,
      "metadata": {
        "id": "HG_zrWpS7gq2"
      },
      "outputs": [],
      "source": [
        "import torch\n",
        "import torch.nn as nn\n",
        "import torch.optim as optim\n",
        "import torch.nn.functional as F\n",
        "from torch.utils.data import DataLoader, Dataset\n",
        "from sklearn.datasets import fetch_california_housing\n",
        "from sklearn.model_selection import train_test_split\n",
        "from sklearn.preprocessing import StandardScaler\n",
        "import numpy as np"
      ]
    },
    {
      "cell_type": "markdown",
      "metadata": {
        "id": "BZP8spxkBbus"
      },
      "source": [
        "### Load and Preprocess the Dataset"
      ]
    },
    {
      "cell_type": "code",
      "execution_count": null,
      "metadata": {
        "id": "6D2F40yoBbus"
      },
      "outputs": [],
      "source": [
        "# Load dataset\n",
        "california = fetch_california_housing()\n",
        "X = california.data  # Features (8 features per sample)\n",
        "y = california.target  # Target variable (house price)\n",
        "\n",
        "# Normalize features\n",
        "scaler = StandardScaler()\n",
        "X = scaler.fit_transform(X)\n",
        "\n",
        "# Convert to NumPy arrays\n",
        "X = np.float32(X)  # Convert to float32 for PyTorch compatibility\n",
        "y = np.float32(y).reshape(-1, 1)  # Convert target to float32 and reshape\n",
        "\n",
        "# Split into train and test sets\n",
        "X_train, X_test, y_train, y_test = train_test_split(X, y, test_size=0.2, random_state=42)\n"
      ]
    },
    {
      "cell_type": "markdown",
      "metadata": {
        "id": "vBAJg1GuBbus"
      },
      "source": [
        "### Create a Custom Dataset Class"
      ]
    },
    {
      "cell_type": "code",
      "execution_count": null,
      "metadata": {
        "id": "r4KVYvhlBbus"
      },
      "outputs": [],
      "source": [
        "class CaliforniaHousingDataset(Dataset):\n",
        "    def __init__(self, X, y):\n",
        "        self.X = torch.tensor(X, dtype=torch.float32)\n",
        "        self.y = torch.tensor(y, dtype=torch.float32)\n",
        "\n",
        "    def __len__(self):\n",
        "        return len(self.X)\n",
        "\n",
        "    def __getitem__(self, idx):\n",
        "        return self.X[idx], self.y[idx]\n",
        "\n",
        "# Create PyTorch datasets\n",
        "train_dataset = CaliforniaHousingDataset(X_train, y_train)\n",
        "test_dataset = CaliforniaHousingDataset(X_test, y_test)\n",
        "\n",
        "# Create DataLoaders\n",
        "train_loader = DataLoader(train_dataset, batch_size=32, shuffle=True) #loads dataset piece by piece - parallelizes the operation\n",
        "test_loader = DataLoader(test_dataset, batch_size=32, shuffle=False)\n"
      ]
    },
    {
      "cell_type": "markdown",
      "metadata": {
        "id": "5_eFTy7cBbut"
      },
      "source": [
        "### Define the Neural Network Model"
      ]
    },
    {
      "cell_type": "code",
      "execution_count": null,
      "metadata": {
        "id": "Ky1YRmktBbut"
      },
      "outputs": [],
      "source": [
        "class MLPModel(nn.Module): # exists the init first\n",
        "    def __init__(self, input_size, hidden_size, output_size):\n",
        "        super(MLPModel, self).__init__()\n",
        "        self.fc1 = nn.Linear(input_size, hidden_size)\n",
        "        self.fc2 = nn.Linear(hidden_size, hidden_size)\n",
        "        self.fc3 = nn.Linear(hidden_size, output_size)\n",
        "\n",
        "    def forward(self, x): #used to do what you want with the input\n",
        "        x = F.relu(self.fc1(x))\n",
        "        x = F.relu(self.fc2(x))\n",
        "        x = self.fc3(x)  # No activation for regression\n",
        "        return x\n",
        "\n",
        "# Initialize model\n",
        "device = \"cuda\" if torch.cuda.is_available() else \"cpu\"\n",
        "model = MLPModel(input_size=8, hidden_size=64, output_size=1).to(device)\n"
      ]
    },
    {
      "cell_type": "markdown",
      "metadata": {
        "id": "rad_CctbBbuz"
      },
      "source": [
        "### Define Loss Function and Optimizer"
      ]
    },
    {
      "cell_type": "code",
      "execution_count": null,
      "metadata": {
        "id": "kXXGD4_wBbuz"
      },
      "outputs": [],
      "source": [
        "criterion = nn.MSELoss()  # Mean Squared Error for regression - choose based on your model logic\n",
        "# nn.crossentroplyloss - applies the softmax on its onw\n",
        "# accuracy calculation - then apply softmax\n",
        "# for multilabel classfication - BCE with logic loss (sigmoid function already applied)\n",
        "optimizer = optim.Adam(model.parameters(), lr=0.001)\n",
        "# adam is an optimisation function - like sgd"
      ]
    },
    {
      "cell_type": "markdown",
      "metadata": {
        "id": "xACn7kXwBbuz"
      },
      "source": [
        "### Training the model"
      ]
    },
    {
      "cell_type": "code",
      "execution_count": null,
      "metadata": {
        "colab": {
          "base_uri": "https://localhost:8080/"
        },
        "id": "nJyUJksSBbuz",
        "outputId": "6be896f2-9973-4424-cb33-da75a3056a74"
      },
      "outputs": [
        {
          "name": "stdout",
          "output_type": "stream",
          "text": [
            "Epoch [10/100], Loss: 0.3017\n",
            "Epoch [20/100], Loss: 0.2754\n",
            "Epoch [30/100], Loss: 0.2625\n",
            "Epoch [40/100], Loss: 0.2527\n",
            "Epoch [50/100], Loss: 0.2428\n",
            "Epoch [60/100], Loss: 0.2372\n",
            "Epoch [70/100], Loss: 0.2290\n",
            "Epoch [80/100], Loss: 0.2224\n",
            "Epoch [90/100], Loss: 0.2184\n"
          ]
        }
      ],
      "source": [
        "num_epochs = 100\n",
        "model.train() # Set model to training mode\n",
        "for epoch in range(num_epochs):\n",
        "    total_loss = 0\n",
        "\n",
        "    for X_batch, y_batch in train_loader:\n",
        "        X_batch, y_batch = X_batch.to(device), y_batch.to(device)\n",
        "\n",
        "        # Forward pass\n",
        "        predictions = model(X_batch)\n",
        "        loss = criterion(predictions, y_batch)\n",
        "\n",
        "        # Backward pass\n",
        "        optimizer.zero_grad() # if you dont use this, then the previous gradients will be used again - always use this before backward pass\n",
        "        loss.backward()\n",
        "        optimizer.step() # updates weights\n",
        "\n",
        "        total_loss += loss.item()\n",
        "\n",
        "    if (epoch+1) % 10 == 0:\n",
        "        print(f\"Epoch [{epoch+1}/{num_epochs}], Loss: {total_loss/len(train_loader):.4f}\")\n",
        "\n",
        "#for validatino - dont use zerograd or step"
      ]
    },
    {
      "cell_type": "markdown",
      "metadata": {
        "id": "VwLz7jX7Bbuz"
      },
      "source": [
        "### Evaluating the model"
      ]
    },
    {
      "cell_type": "code",
      "execution_count": null,
      "metadata": {
        "id": "2QggEnu6Bbuz"
      },
      "outputs": [],
      "source": [
        "model.eval()  # Set model to evaluation mode\n",
        "with torch.no_grad():\n",
        "    total_mse = 0\n",
        "    for X_batch, y_batch in test_loader:\n",
        "        X_batch, y_batch = X_batch.to(device), y_batch.to(device)\n",
        "\n",
        "        predictions = model(X_batch)\n",
        "        mse = criterion(predictions, y_batch)\n",
        "        total_mse += mse.item()\n",
        "\n",
        "print(f\"Test MSE Loss: {total_mse/len(test_loader):.4f}\")\n"
      ]
    },
    {
      "cell_type": "markdown",
      "metadata": {
        "id": "Uv7g1hp4Bbu0"
      },
      "source": [
        "### Saving the model weights"
      ]
    },
    {
      "cell_type": "code",
      "execution_count": null,
      "metadata": {
        "id": "EuqHf_Q6Bbu0"
      },
      "outputs": [],
      "source": [
        "torch.save(model.state_dict(), \"model_weights.pth\")\n",
        "print(\"Model saved!\")"
      ]
    },
    {
      "cell_type": "markdown",
      "metadata": {
        "id": "CAtAko7vBbu0"
      },
      "source": [
        "### Saving the Entire Model (Architecture + Weights)"
      ]
    },
    {
      "cell_type": "code",
      "execution_count": null,
      "metadata": {
        "id": "oy1IXqh5Bbu0"
      },
      "outputs": [],
      "source": [
        "torch.save(model, \"model_full.pth\")"
      ]
    },
    {
      "cell_type": "markdown",
      "metadata": {
        "id": "nsimSRHXBbu0"
      },
      "source": [
        "### Loading the model"
      ]
    },
    {
      "cell_type": "code",
      "execution_count": null,
      "metadata": {
        "id": "NcP2qFv0Bbu0"
      },
      "outputs": [],
      "source": [
        "# Load model weights\n",
        "loaded_model = MLPModel(8, 64, 1).to(device)\n",
        "loaded_model.load_state_dict(torch.load(\"california_model.pth\"))\n",
        "loaded_model.eval()\n",
        "print(\"Model loaded!\")"
      ]
    },
    {
      "cell_type": "markdown",
      "metadata": {
        "id": "ps22ESOBBbu0"
      },
      "source": [
        "### Making predictions"
      ]
    },
    {
      "cell_type": "code",
      "execution_count": null,
      "metadata": {
        "id": "q6_nJyVTBbu0"
      },
      "outputs": [],
      "source": [
        "sample = torch.tensor([X_test[0]]).to(device)  # Single test example\n",
        "prediction = loaded_model(sample)\n",
        "print(f\"Predicted Price: {prediction.item():.2f}, Actual Price: {y_test[0][0]:.2f}\")"
      ]
    }
  ],
  "metadata": {
    "accelerator": "GPU",
    "colab": {
      "gpuType": "T4",
      "provenance": []
    },
    "kernelspec": {
      "display_name": "Python 3",
      "name": "python3"
    },
    "language_info": {
      "codemirror_mode": {
        "name": "ipython",
        "version": 3
      },
      "file_extension": ".py",
      "mimetype": "text/x-python",
      "name": "python",
      "nbconvert_exporter": "python",
      "pygments_lexer": "ipython3",
      "version": "3.8.18"
    }
  },
  "nbformat": 4,
  "nbformat_minor": 0
}

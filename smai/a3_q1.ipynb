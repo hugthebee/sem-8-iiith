{
 "cells": [
  {
   "cell_type": "markdown",
   "id": "77e3c45a",
   "metadata": {
    "papermill": {
     "duration": 0.003138,
     "end_time": "2025-03-28T14:27:19.399270",
     "exception": false,
     "start_time": "2025-03-28T14:27:19.396132",
     "status": "completed"
    },
    "tags": []
   },
   "source": [
    "<h2><u>Question-2</u></h2>\n",
    "\n",
    "<h4>Training CNN from scratch</h4>"
   ]
  },
  {
   "cell_type": "code",
   "execution_count": 1,
   "id": "dbefdc31",
   "metadata": {
    "_cell_guid": "b1076dfc-b9ad-4769-8c92-a6c4dae69d19",
    "_uuid": "8f2839f25d086af736a60e9eeb907d3b93b6e0e5",
    "execution": {
     "iopub.execute_input": "2025-03-28T14:27:19.405310Z",
     "iopub.status.busy": "2025-03-28T14:27:19.404994Z",
     "iopub.status.idle": "2025-03-28T14:27:28.488409Z",
     "shell.execute_reply": "2025-03-28T14:27:28.487413Z"
    },
    "papermill": {
     "duration": 9.088168,
     "end_time": "2025-03-28T14:27:28.490011",
     "exception": false,
     "start_time": "2025-03-28T14:27:19.401843",
     "status": "completed"
    },
    "tags": []
   },
   "outputs": [],
   "source": [
    "import os\n",
    "import torch\n",
    "from PIL import Image\n",
    "from torch.utils.data import Dataset, DataLoader, random_split\n",
    "import torchvision.transforms as transforms\n",
    "from sklearn.model_selection import train_test_split\n",
    "import torch.nn as nn\n",
    "import torch.optim as optim\n",
    "from torchvision import models\n",
    "import numpy as  np\n",
    "from sklearn.metrics import mean_absolute_error, mean_squared_error, r2_score\n",
    "import matplotlib.pyplot as plt"
   ]
  },
  {
   "cell_type": "code",
   "execution_count": 2,
   "id": "5e3c3d12",
   "metadata": {
    "execution": {
     "iopub.execute_input": "2025-03-28T14:27:28.496123Z",
     "iopub.status.busy": "2025-03-28T14:27:28.495725Z",
     "iopub.status.idle": "2025-03-28T14:31:10.718143Z",
     "shell.execute_reply": "2025-03-28T14:31:10.717199Z"
    },
    "papermill": {
     "duration": 222.229617,
     "end_time": "2025-03-28T14:31:10.722318",
     "exception": false,
     "start_time": "2025-03-28T14:27:28.492701",
     "status": "completed"
    },
    "tags": []
   },
   "outputs": [
    {
     "name": "stdout",
     "output_type": "stream",
     "text": [
      "23708\n"
     ]
    }
   ],
   "source": [
    "imagenet_mean = [0.485, 0.456, 0.406]\n",
    "imagenet_std = [0.229, 0.224, 0.225]\n",
    "transform = transforms.Compose([\n",
    "    transforms.Resize((224, 224)),\n",
    "    transforms.ToTensor(),\n",
    "    transforms.Normalize(mean=imagenet_mean, std=imagenet_std)\n",
    "])\n",
    "\n",
    "directory = \"/kaggle/input/utkface-new/UTKFace\"\n",
    "files = [f for f in os.listdir(directory) if f.endswith('.jpg')]\n",
    "ages = []\n",
    "dataset = []\n",
    "for f in files:\n",
    "    age = float(f.split('_')[0])  # [age]_[gender]_[race]_[datetime].jpg\n",
    "    image_path = os.path.join(directory, f)\n",
    "    ages.append((image_path, age))\n",
    "\n",
    "for path, age in ages:\n",
    "    image = Image.open(path).convert('RGB')\n",
    "    image = transform(image)\n",
    "    dataset.append((image, age))\n",
    "\n",
    "print(len(dataset))"
   ]
  },
  {
   "cell_type": "code",
   "execution_count": 3,
   "id": "3dc13089",
   "metadata": {
    "execution": {
     "iopub.execute_input": "2025-03-28T14:31:10.729789Z",
     "iopub.status.busy": "2025-03-28T14:31:10.729513Z",
     "iopub.status.idle": "2025-03-28T14:31:10.740069Z",
     "shell.execute_reply": "2025-03-28T14:31:10.739258Z"
    },
    "papermill": {
     "duration": 0.015417,
     "end_time": "2025-03-28T14:31:10.741272",
     "exception": false,
     "start_time": "2025-03-28T14:31:10.725855",
     "status": "completed"
    },
    "tags": []
   },
   "outputs": [
    {
     "name": "stdout",
     "output_type": "stream",
     "text": [
      "Train: 18966\n",
      "Test: 4742\n"
     ]
    }
   ],
   "source": [
    "train, test = train_test_split(dataset, test_size=0.2, random_state=45)\n",
    "print(\"Train:\", len(train))\n",
    "print(\"Test:\", len(test))"
   ]
  },
  {
   "cell_type": "code",
   "execution_count": 4,
   "id": "d986f56f",
   "metadata": {
    "execution": {
     "iopub.execute_input": "2025-03-28T14:31:10.747691Z",
     "iopub.status.busy": "2025-03-28T14:31:10.747477Z",
     "iopub.status.idle": "2025-03-28T14:31:10.753978Z",
     "shell.execute_reply": "2025-03-28T14:31:10.753242Z"
    },
    "papermill": {
     "duration": 0.010952,
     "end_time": "2025-03-28T14:31:10.755273",
     "exception": false,
     "start_time": "2025-03-28T14:31:10.744321",
     "status": "completed"
    },
    "tags": []
   },
   "outputs": [],
   "source": [
    "class CNN(nn.Module):\n",
    "    def __init__(self):\n",
    "        super().__init__()\n",
    "        self.features = nn.Sequential(\n",
    "            nn.Conv2d(3, 64, kernel_size=3, padding=1),\n",
    "            nn.ReLU(),\n",
    "            nn.MaxPool2d(2),  # 224 -> 112\n",
    "            nn.Conv2d(64, 128, kernel_size=3, padding=1),\n",
    "            nn.ReLU(),\n",
    "            nn.MaxPool2d(2), # 112 -> 56\n",
    "            nn.Conv2d(128, 128, kernel_size=3, padding=1),\n",
    "            nn.ReLU(),\n",
    "            nn.MaxPool2d(2)   #  56 -> 28\n",
    "        )\n",
    "        \n",
    "        self.regressor = nn.Sequential(\n",
    "            nn.Linear(128 * 28 * 28, 256),\n",
    "            nn.ReLU(),\n",
    "            nn.Linear(256, 1)\n",
    "        )\n",
    "    \n",
    "    def forward(self, x):\n",
    "        x = self.features(x)\n",
    "        x = x.view(x.size(0), -1)\n",
    "        x = self.regressor(x)\n",
    "        return x\n",
    "\n",
    "class ListDataset(Dataset):\n",
    "    def __init__(self, data_list):\n",
    "        self.data_list = data_list\n",
    "        \n",
    "    def __len__(self):\n",
    "        return len(self.data_list)\n",
    "    \n",
    "    def __getitem__(self, idx):\n",
    "        return self.data_list[idx]"
   ]
  },
  {
   "cell_type": "code",
   "execution_count": 5,
   "id": "a7bcc251",
   "metadata": {
    "execution": {
     "iopub.execute_input": "2025-03-28T14:31:10.760770Z",
     "iopub.status.busy": "2025-03-28T14:31:10.760564Z",
     "iopub.status.idle": "2025-03-28T14:48:48.026996Z",
     "shell.execute_reply": "2025-03-28T14:48:48.025933Z"
    },
    "papermill": {
     "duration": 1057.274003,
     "end_time": "2025-03-28T14:48:48.031627",
     "exception": false,
     "start_time": "2025-03-28T14:31:10.757624",
     "status": "completed"
    },
    "tags": []
   },
   "outputs": [
    {
     "name": "stdout",
     "output_type": "stream",
     "text": [
      "Epoch [1/15], Training Loss: 284.0846, Test Loss: 166.6316\n",
      "Epoch [2/15], Training Loss: 140.2144, Test Loss: 165.9586\n",
      "Epoch [3/15], Training Loss: 111.3233, Test Loss: 105.8309\n",
      "Epoch [4/15], Training Loss: 90.6981, Test Loss: 97.9398\n",
      "Epoch [5/15], Training Loss: 78.1879, Test Loss: 88.5352\n",
      "Epoch [6/15], Training Loss: 66.4808, Test Loss: 85.0357\n",
      "Epoch [7/15], Training Loss: 56.4629, Test Loss: 82.7380\n",
      "Epoch [8/15], Training Loss: 48.4474, Test Loss: 87.6421\n",
      "Epoch [9/15], Training Loss: 38.4989, Test Loss: 97.8606\n",
      "Epoch [10/15], Training Loss: 33.4558, Test Loss: 91.7567\n",
      "Epoch [11/15], Training Loss: 25.5034, Test Loss: 92.8582\n",
      "Epoch [12/15], Training Loss: 22.4478, Test Loss: 89.7157\n",
      "Epoch [13/15], Training Loss: 18.8380, Test Loss: 87.4674\n",
      "Epoch [14/15], Training Loss: 15.8688, Test Loss: 89.5586\n",
      "Epoch [15/15], Training Loss: 14.6573, Test Loss: 88.5324\n"
     ]
    }
   ],
   "source": [
    "batch_size = 32\n",
    "train_loader = DataLoader(ListDataset(train), batch_size=batch_size, shuffle=True)\n",
    "test_loader = DataLoader(ListDataset(test), batch_size=batch_size, shuffle=False)\n",
    "\n",
    "device = torch.device('cuda' if torch.cuda.is_available() else 'cpu')\n",
    "model = CNN().to(device)\n",
    "criterion = nn.MSELoss()\n",
    "optimizer = optim.Adam(model.parameters(), lr=0.001)\n",
    "\n",
    "cnn_loss = []\n",
    "num_epochs = 15\n",
    "for epoch in range(num_epochs):\n",
    "    model.train()\n",
    "    temp_loss = 0.0\n",
    "    for images, ages in train_loader:\n",
    "        images = images.to(device)\n",
    "        ages = ages.to(device).float().unsqueeze(1)\n",
    "        \n",
    "        optimizer.zero_grad()\n",
    "        outputs = model(images)\n",
    "        loss = criterion(outputs, ages)\n",
    "        loss.backward()\n",
    "        optimizer.step()\n",
    "        \n",
    "        temp_loss += loss.item() * images.size(0)\n",
    "    train_loss = temp_loss / len(train_loader.dataset)\n",
    "    \n",
    "    # Evaluation phase\n",
    "    model.eval()\n",
    "    test_loss = 0.0\n",
    "    with torch.no_grad():\n",
    "        for images, ages in test_loader:\n",
    "            images = images.to(device)\n",
    "            ages = ages.to(device).float().unsqueeze(1)\n",
    "            outputs = model(images)\n",
    "            loss = criterion(outputs, ages)\n",
    "            test_loss += loss.item() * images.size(0)\n",
    "    test_loss /= len(test_loader.dataset)\n",
    "    cnn_loss.append(test_loss)\n",
    "    print(f'Epoch [{epoch+1}/{num_epochs}], Training Loss: {train_loss:.4f}, Test Loss: {test_loss:.4f}')"
   ]
  },
  {
   "cell_type": "code",
   "execution_count": 6,
   "id": "b2bb4b9a",
   "metadata": {
    "execution": {
     "iopub.execute_input": "2025-03-28T14:48:48.039481Z",
     "iopub.status.busy": "2025-03-28T14:48:48.039207Z",
     "iopub.status.idle": "2025-03-28T14:48:48.042618Z",
     "shell.execute_reply": "2025-03-28T14:48:48.041793Z"
    },
    "papermill": {
     "duration": 0.008777,
     "end_time": "2025-03-28T14:48:48.043928",
     "exception": false,
     "start_time": "2025-03-28T14:48:48.035151",
     "status": "completed"
    },
    "tags": []
   },
   "outputs": [],
   "source": [
    "# model.eval()\n",
    "# preds = []\n",
    "# targets = []\n",
    "\n",
    "# with torch.no_grad():\n",
    "#     for images, ages in test_loader:\n",
    "#         images = images.to(device)\n",
    "#         ages = ages.to(device)\n",
    "#         outputs = model(images)\n",
    "\n",
    "#         preds.extend(outputs.cpu().numpy().flatten())\n",
    "#         targets.extend(ages.cpu().numpy().flatten())\n",
    "\n",
    "# preds = np.array(preds)\n",
    "# targets = np.array(targets)\n",
    "\n",
    "# mae = mean_absolute_error(targets, preds)\n",
    "# mse = mean_squared_error(targets, preds)\n",
    "# rmse = np.sqrt(mse)\n",
    "# r2 = r2_score(targets, preds)\n",
    "\n",
    "# print(f\"Mean Absolute Error (MAE): {mae:.2f}\")\n",
    "# print(f\"Mean Squared Error (MSE): {mse:.2f}\")\n",
    "# print(f\"Root Mean Squared Error (RMSE): {rmse:.2f}\")\n",
    "# print(f\"R² Score: {r2:.2f}\")"
   ]
  },
  {
   "cell_type": "markdown",
   "id": "e2d364c1",
   "metadata": {
    "papermill": {
     "duration": 0.003389,
     "end_time": "2025-03-28T14:48:48.050902",
     "exception": false,
     "start_time": "2025-03-28T14:48:48.047513",
     "status": "completed"
    },
    "tags": []
   },
   "source": [
    "<h4>Pre-trained ResNET model</h4>"
   ]
  },
  {
   "cell_type": "code",
   "execution_count": 7,
   "id": "8871efc9",
   "metadata": {
    "execution": {
     "iopub.execute_input": "2025-03-28T14:48:48.058548Z",
     "iopub.status.busy": "2025-03-28T14:48:48.058307Z",
     "iopub.status.idle": "2025-03-28T14:48:48.614143Z",
     "shell.execute_reply": "2025-03-28T14:48:48.613065Z"
    },
    "papermill": {
     "duration": 0.561231,
     "end_time": "2025-03-28T14:48:48.615666",
     "exception": false,
     "start_time": "2025-03-28T14:48:48.054435",
     "status": "completed"
    },
    "tags": []
   },
   "outputs": [
    {
     "name": "stderr",
     "output_type": "stream",
     "text": [
      "/usr/local/lib/python3.10/dist-packages/torchvision/models/_utils.py:208: UserWarning: The parameter 'pretrained' is deprecated since 0.13 and may be removed in the future, please use 'weights' instead.\n",
      "  warnings.warn(\n",
      "/usr/local/lib/python3.10/dist-packages/torchvision/models/_utils.py:223: UserWarning: Arguments other than a weight enum or `None` for 'weights' are deprecated since 0.13 and may be removed in the future. The current behavior is equivalent to passing `weights=ResNet18_Weights.IMAGENET1K_V1`. You can also use `weights=ResNet18_Weights.DEFAULT` to get the most up-to-date weights.\n",
      "  warnings.warn(msg)\n",
      "Downloading: \"https://download.pytorch.org/models/resnet18-f37072fd.pth\" to /root/.cache/torch/hub/checkpoints/resnet18-f37072fd.pth\n",
      "100%|██████████| 44.7M/44.7M [00:00<00:00, 210MB/s]\n"
     ]
    }
   ],
   "source": [
    "model_trained = models.resnet18(pretrained=True)\n",
    "model_trained.fc = nn.Linear(model_trained.fc.in_features, 1)\n",
    "\n",
    "model_trained = model_trained.to(device)"
   ]
  },
  {
   "cell_type": "code",
   "execution_count": 8,
   "id": "e52120cf",
   "metadata": {
    "execution": {
     "iopub.execute_input": "2025-03-28T14:48:48.623900Z",
     "iopub.status.busy": "2025-03-28T14:48:48.623602Z",
     "iopub.status.idle": "2025-03-28T15:06:17.013619Z",
     "shell.execute_reply": "2025-03-28T15:06:17.012597Z"
    },
    "papermill": {
     "duration": 1048.400343,
     "end_time": "2025-03-28T15:06:17.019756",
     "exception": false,
     "start_time": "2025-03-28T14:48:48.619413",
     "status": "completed"
    },
    "tags": []
   },
   "outputs": [
    {
     "name": "stdout",
     "output_type": "stream",
     "text": [
      "Epoch [1/15], Training Loss: 165.5699, Test Loss: 106.1466\n",
      "Epoch [2/15], Training Loss: 78.8879, Test Loss: 75.0387\n",
      "Epoch [3/15], Training Loss: 62.8998, Test Loss: 69.1843\n",
      "Epoch [4/15], Training Loss: 54.7558, Test Loss: 69.5950\n",
      "Epoch [5/15], Training Loss: 44.2050, Test Loss: 66.3018\n",
      "Epoch [6/15], Training Loss: 36.1360, Test Loss: 55.8380\n",
      "Epoch [7/15], Training Loss: 27.8429, Test Loss: 55.8495\n",
      "Epoch [8/15], Training Loss: 23.2316, Test Loss: 56.9866\n",
      "Epoch [9/15], Training Loss: 17.8052, Test Loss: 63.8069\n",
      "Epoch [10/15], Training Loss: 16.1514, Test Loss: 57.3765\n",
      "Epoch [11/15], Training Loss: 14.2506, Test Loss: 58.1561\n",
      "Epoch [12/15], Training Loss: 11.3176, Test Loss: 55.8754\n",
      "Epoch [13/15], Training Loss: 12.5199, Test Loss: 62.5552\n",
      "Epoch [14/15], Training Loss: 10.6905, Test Loss: 56.6921\n",
      "Epoch [15/15], Training Loss: 7.7011, Test Loss: 55.5869\n"
     ]
    }
   ],
   "source": [
    "criterion = nn.MSELoss()\n",
    "optimizer = optim.Adam(model_trained.parameters(), lr=0.001)\n",
    "\n",
    "resnet_loss = []\n",
    "num_epochs = 15\n",
    "for epoch in range(num_epochs):\n",
    "    model_trained.train()\n",
    "    temp_loss = 0.0\n",
    "    for images, ages in train_loader:\n",
    "        images = images.to(device)\n",
    "        ages = ages.to(device).float().unsqueeze(1)\n",
    "        \n",
    "        optimizer.zero_grad()\n",
    "        outputs = model_trained(images)\n",
    "        loss = criterion(outputs, ages)\n",
    "        loss.backward()\n",
    "        optimizer.step()\n",
    "        \n",
    "        temp_loss += loss.item() * images.size(0)\n",
    "    train_loss = temp_loss / len(train_loader.dataset)\n",
    "    \n",
    "    # Evaluation phase\n",
    "    model_trained.eval()\n",
    "    test_loss = 0.0\n",
    "    with torch.no_grad():\n",
    "        for images, ages in test_loader:\n",
    "            images = images.to(device)\n",
    "            ages = ages.to(device).float().unsqueeze(1)\n",
    "            outputs = model_trained(images)\n",
    "            loss = criterion(outputs, ages)\n",
    "            test_loss += loss.item() * images.size(0)\n",
    "    test_loss /= len(test_loader.dataset)\n",
    "    resnet_loss.append(test_loss)\n",
    "    print(f'Epoch [{epoch+1}/{num_epochs}], Training Loss: {train_loss:.4f}, Test Loss: {test_loss:.4f}')"
   ]
  },
  {
   "cell_type": "code",
   "execution_count": 9,
   "id": "e7a19d2b",
   "metadata": {
    "execution": {
     "iopub.execute_input": "2025-03-28T15:06:17.029944Z",
     "iopub.status.busy": "2025-03-28T15:06:17.029663Z",
     "iopub.status.idle": "2025-03-28T15:06:17.332432Z",
     "shell.execute_reply": "2025-03-28T15:06:17.331548Z"
    },
    "papermill": {
     "duration": 0.309734,
     "end_time": "2025-03-28T15:06:17.334125",
     "exception": false,
     "start_time": "2025-03-28T15:06:17.024391",
     "status": "completed"
    },
    "tags": []
   },
   "outputs": [
    {
     "data": {
      "image/png": "[encoded data removed]",
      "text/plain": [
       "<Figure size 640x480 with 1 Axes>"
      ]
     },
     "metadata": {},
     "output_type": "display_data"
    }
   ],
   "source": [
    "plt.figure()\n",
    "plt.plot(range(0, 15), cnn_loss, label='CNN Test Loss', marker='^')\n",
    "plt.plot(range(0, 15), resnet_loss, label='ResNet-18 Test Loss', marker='s')\n",
    "plt.xlabel(\"Epochs\")\n",
    "plt.ylabel(\"MSE Loss\")\n",
    "plt.legend()\n",
    "plt.title(\"CNN vs ResNet-18 Test Loss Comparison\")\n",
    "plt.show()"
   ]
  },
  {
   "cell_type": "markdown",
   "id": "8026a3ec",
   "metadata": {},
   "source": [
    "<h4><u>Report</u></h4>\n",
    "\n",
    "- The pretrained ResNet-18 model outperforms the CNN trained from scratch. This is because the ResNet-18 model has learned feature representations on the large ImageNet dataset. Even though the age regression task differs from the ImageNet classification task, the learned features (edges, textures, etc.) help the model extract more meaningful information from faces.\n",
    "- This is called transfer learning and it allows for faster convergence and better initialization.\n"
   ]
  }
 ],
 "metadata": {
  "kaggle": {
   "accelerator": "nvidiaTeslaT4",
   "dataSources": [
    {
     "datasetId": 44109,
     "sourceId": 78156,
     "sourceType": "datasetVersion"
    }
   ],
   "dockerImageVersionId": 30918,
   "isGpuEnabled": true,
   "isInternetEnabled": true,
   "language": "python",
   "sourceType": "notebook"
  },
  "kernelspec": {
   "display_name": "Python 3",
   "language": "python",
   "name": "python3"
  },
  "language_info": {
   "codemirror_mode": {
    "name": "ipython",
    "version": 3
   },
   "file_extension": ".py",
   "mimetype": "text/x-python",
   "name": "python",
   "nbconvert_exporter": "python",
   "pygments_lexer": "ipython3",
   "version": "3.10.12"
  },
  "papermill": {
   "default_parameters": {},
   "duration": 2344.844657,
   "end_time": "2025-03-28T15:06:21.434276",
   "environment_variables": {},
   "exception": null,
   "input_path": "__notebook__.ipynb",
   "output_path": "__notebook__.ipynb",
   "parameters": {},
   "start_time": "2025-03-28T14:27:16.589619",
   "version": "2.6.0"
  }
 },
 "nbformat": 4,
 "nbformat_minor": 5
}
